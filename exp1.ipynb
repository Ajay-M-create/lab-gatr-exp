{
 "cells": [
  {
   "cell_type": "markdown",
   "metadata": {},
   "source": [
    "# Comparing Transformer and GATr Models for Convex Hull Volume Regression\n",
    "\n",
    "In this notebook, we will perform a surrogate regression task to infer the volume of a 5-point convex hull in 3D space. We will train two models:\n",
    "\n",
    "1. **Regular Transformer**: A standard transformer model to learn the relationship between the point cloud shapes and their corresponding volumes.\n",
    "2. **GATr (Geometric Algebra Transformer)**: A specialized transformer model leveraging geometric algebra for enhanced performance on geometric data.\n",
    "\n",
    "We will compare these models in terms of training efficiency, loss, and other relevant metrics.\n",
    "\n",
    "## Table of Contents\n",
    "\n",
    "1. [Setup and Imports](#setup-and-imports)\n",
    "2. [Data Loading and Preprocessing](#data-loading-and-preprocessing)\n",
    "3. [Dataset and DataLoader Definition](#dataset-and-dataloader-definition)\n",
    "4. [Regular Transformer Model](#regular-transformer-model)\n",
    "5. [Training Loop for Transformer](#training-loop-for-transformer)\n",
    "6. [GATr Model](#gatr-model)\n",
    "7. [Training Loop for GATr](#training-loop-for-gatr)\n",
    "8. [Evaluation and Comparison](#evaluation-and-comparison)      \n",
    "\n",
    "## Setup and Imports\n",
    "First, we need to import the necessary libraries and set up the environment."
   ]
  },
  {
   "cell_type": "code",
   "execution_count": 1,
   "metadata": {},
   "outputs": [
    {
     "name": "stdout",
     "output_type": "stream",
     "text": [
      "Using device: cuda\n"
     ]
    },
    {
     "name": "stderr",
     "output_type": "stream",
     "text": [
      "/home/ajay/anaconda3/envs/anatomygen_gatr/lib/python3.10/site-packages/gatr/primitives/bilinear.py:38: FutureWarning: You are using `torch.load` with `weights_only=False` (the current default value), which uses the default pickle module implicitly. It is possible to construct malicious pickle data which will execute arbitrary code during unpickling (See https://github.com/pytorch/pytorch/blob/main/SECURITY.md#untrusted-models for more details). In a future release, the default value for `weights_only` will be flipped to `True`. This limits the functions that could be executed during unpickling. Arbitrary objects will no longer be allowed to be loaded via this mode unless they are explicitly allowlisted by the user via `torch.serialization.add_safe_globals`. We recommend you start setting `weights_only=True` for any use case where you don't have full control of the loaded file. Please open an issue on GitHub for any issues related to this experimental feature.\n",
      "  sparse_basis = torch.load(filename).to(torch.float32)\n"
     ]
    }
   ],
   "source": [
    "# setup.ipynb\n",
    "\n",
    "import os\n",
    "import torch\n",
    "import torch.nn as nn\n",
    "import torch.optim as optim\n",
    "from torch.utils.data import Dataset, DataLoader\n",
    "import torch_geometric as pyg\n",
    "from sklearn.model_selection import train_test_split\n",
    "import numpy as np\n",
    "import pandas as pd\n",
    "from tqdm import tqdm\n",
    "from lab_gatr import PointCloudPoolingScales, LaBGATr\n",
    "import matplotlib.pyplot as plt\n",
    "\n",
    "# Ensure reproducibility\n",
    "torch.manual_seed(42)\n",
    "np.random.seed(42)\n",
    "\n",
    "# Check for GPU\n",
    "device = torch.device('cuda' if torch.cuda.is_available() else 'cpu')\n",
    "print(f\"Using device: {device}\")"
   ]
  },
  {
   "cell_type": "markdown",
   "metadata": {},
   "source": [
    "## Data Loading and Preprocessing\n",
    "\n",
    "We will load the convex hull data from the `3d_point_cloud_dataset` directory. Each file represents a convex hull with 5 points in 3D space. We will compute the volume of each convex hull using the points.\n",
    "\n",
    "**Note**: Ensure that the `3d_point_cloud_dataset` directory is in the current working directory and contains 5000 sample files named as `convex_hull_0.txt`, `convex_hull_1.txt`, ..., `convex_hull_4999.txt`."
   ]
  },
  {
   "cell_type": "code",
   "execution_count": 2,
   "metadata": {},
   "outputs": [],
   "source": [
    "# data_loading.ipynb\n",
    "\n",
    "import os\n",
    "from scipy.spatial import ConvexHull\n",
    "\n",
    "class ConvexHullDataset(Dataset):\n",
    "    def __init__(self, data_dir):\n",
    "        self.data_dir = data_dir\n",
    "        self.file_names = sorted([f for f in os.listdir(data_dir) if f.endswith('.txt')])\n",
    "        self.samples = []\n",
    "        self._prepare_dataset()\n",
    "    \n",
    "    def _prepare_dataset(self):\n",
    "        for file_name in tqdm(self.file_names, desc=\"Loading data\"):\n",
    "            file_path = os.path.join(self.data_dir, file_name)\n",
    "            with open(file_path, 'r') as f:\n",
    "                lines = f.readlines()[1:]  # Skip header\n",
    "                points = []\n",
    "                for line in lines:\n",
    "                    x, y, z = map(float, line.strip().split())\n",
    "                    points.append([x, y, z])\n",
    "                points = np.array(points)\n",
    "                if points.shape[0] < 4:\n",
    "                    # Convex hull in 3D requires at least 4 non-coplanar points\n",
    "                    volume = 0.0\n",
    "                else:\n",
    "                    try:\n",
    "                        hull = ConvexHull(points)\n",
    "                        volume = hull.volume\n",
    "                    except:\n",
    "                        # In case points are coplanar or singular\n",
    "                        volume = 0.0\n",
    "                self.samples.append({'points': points, 'volume': volume})\n",
    "    \n",
    "    def __len__(self):\n",
    "        return len(self.samples)\n",
    "    \n",
    "    def __getitem__(self, idx):\n",
    "        sample = self.samples[idx]\n",
    "        points = sample['points']\n",
    "        volume = sample['volume']\n",
    "        return {'points': torch.tensor(points, dtype=torch.float32), 'volume': torch.tensor(volume, dtype=torch.float32)}"
   ]
  },
  {
   "cell_type": "markdown",
   "metadata": {},
   "source": [
    "### Splitting the Data\n",
    "\n",
    "We will split the data into training and testing sets with an 80-20 split."
   ]
  },
  {
   "cell_type": "code",
   "execution_count": 3,
   "metadata": {},
   "outputs": [
    {
     "name": "stderr",
     "output_type": "stream",
     "text": [
      "Loading data:   0%|          | 0/5000 [00:00<?, ?it/s]"
     ]
    },
    {
     "name": "stderr",
     "output_type": "stream",
     "text": [
      "Loading data: 100%|██████████| 5000/5000 [00:00<00:00, 5428.80it/s]"
     ]
    },
    {
     "name": "stdout",
     "output_type": "stream",
     "text": [
      "Training samples: 4000\n",
      "Testing samples: 1000\n"
     ]
    },
    {
     "name": "stderr",
     "output_type": "stream",
     "text": [
      "\n"
     ]
    }
   ],
   "source": [
    "# data_splitting.ipynb\n",
    "\n",
    "data_dir = '3d_point_cloud_dataset'  # Adjust the path if necessary\n",
    "dataset = ConvexHullDataset(data_dir)\n",
    "\n",
    "train_size = int(0.8 * len(dataset))\n",
    "test_size = len(dataset) - train_size\n",
    "\n",
    "train_dataset, test_dataset = torch.utils.data.random_split(dataset, [train_size, test_size])\n",
    "\n",
    "print(f\"Training samples: {len(train_dataset)}\")\n",
    "print(f\"Testing samples: {len(test_dataset)}\")"
   ]
  },
  {
   "cell_type": "markdown",
   "metadata": {},
   "source": [
    "## Dataset and DataLoader Definition\n",
    "\n",
    "We will define a custom collate function to handle batching of point clouds with varying points if necessary. However, since each convex hull has exactly 5 points, we can use standard batching."
   ]
  },
  {
   "cell_type": "code",
   "execution_count": 4,
   "metadata": {},
   "outputs": [],
   "source": [
    "# dataloader_definition.ipynb\n",
    "\n",
    "def collate_fn(batch):\n",
    "    points = torch.stack([item['points'] for item in batch], dim=0)  # Shape: [batch_size, 5, 3]\n",
    "    volumes = torch.stack([item['volume'] for item in batch], dim=0)  # Shape: [batch_size]\n",
    "    return points, volumes\n",
    "\n",
    "batch_size = 32\n",
    "\n",
    "train_loader = DataLoader(train_dataset, batch_size=batch_size, shuffle=True, collate_fn=collate_fn)\n",
    "test_loader = DataLoader(test_dataset, batch_size=batch_size, shuffle=False, collate_fn=collate_fn)"
   ]
  },
  {
   "cell_type": "markdown",
   "metadata": {},
   "source": [
    "## Regular Transformer Model\n",
    "\n",
    "We will define a simple transformer-based regression model. The model will take the 5 points (each with 3 coordinates) as input and output the predicted volume.\n",
    "\n",
    "### Model Architecture\n",
    "\n",
    "- **Input Embedding**: Linear layer to project the 3D coordinates to a higher-dimensional space.\n",
    "- **Transformer Encoder**: Processes the embedded points.\n",
    "- **Pooling**: Global average pooling to aggregate information from all points.\n",
    "- **Regression Head**: Linear layers to predict the volume.\n",
    "\n",
    "### Implementation"
   ]
  },
  {
   "cell_type": "code",
   "execution_count": 5,
   "metadata": {},
   "outputs": [],
   "source": [
    "# transformer_model.ipynb\n",
    "\n",
    "class TransformerRegressor(nn.Module):\n",
    "    def __init__(self, input_dim=3, embed_dim=64, num_heads=8, num_layers=3, dropout=0.1):\n",
    "        super(TransformerRegressor, self).__init__()\n",
    "        self.embedding = nn.Linear(input_dim, embed_dim)\n",
    "        encoder_layer = nn.TransformerEncoderLayer(d_model=embed_dim, nhead=num_heads, dropout=dropout)\n",
    "        self.transformer = nn.TransformerEncoder(encoder_layer, num_layers=num_layers)\n",
    "        self.pooling = nn.AdaptiveAvgPool1d(1)\n",
    "        self.regressor = nn.Sequential(\n",
    "            nn.Linear(embed_dim, 128),\n",
    "            nn.ReLU(),\n",
    "            nn.Linear(128, 1)\n",
    "        )\n",
    "    \n",
    "    def forward(self, x):\n",
    "        \"\"\"\n",
    "        x: [batch_size, num_points, 3]\n",
    "        \"\"\"\n",
    "        x = self.embedding(x)  # [batch_size, num_points, embed_dim]\n",
    "        x = x.permute(1, 0, 2)  # [num_points, batch_size, embed_dim] for Transformer\n",
    "        x = self.transformer(x)  # [num_points, batch_size, embed_dim]\n",
    "        x = x.permute(1, 2, 0)  # [batch_size, embed_dim, num_points]\n",
    "        x = self.pooling(x).squeeze(-1)  # [batch_size, embed_dim]\n",
    "        x = self.regressor(x).squeeze(-1)  # [batch_size]\n",
    "        return x"
   ]
  },
  {
   "cell_type": "markdown",
   "metadata": {},
   "source": [
    "## Training Loop for Transformer\n",
    "\n",
    "We will define the training and evaluation loops for the transformer model."
   ]
  },
  {
   "cell_type": "code",
   "execution_count": 6,
   "metadata": {},
   "outputs": [
    {
     "name": "stderr",
     "output_type": "stream",
     "text": [
      "/home/ajay/anaconda3/envs/anatomygen_gatr/lib/python3.10/site-packages/torch/nn/modules/transformer.py:379: UserWarning: enable_nested_tensor is True, but self.use_nested_tensor is False because encoder_layer.self_attn.batch_first was not True(use batch_first for better inference performance)\n",
      "  warnings.warn(\n"
     ]
    },
    {
     "name": "stdout",
     "output_type": "stream",
     "text": [
      "Epoch 1/50 - Train Loss: 871.7245, Test Loss: 617.0840\n",
      "Epoch 2/50 - Train Loss: 578.2365, Test Loss: 618.8878\n",
      "Epoch 3/50 - Train Loss: 579.3415, Test Loss: 615.7886\n",
      "Epoch 4/50 - Train Loss: 579.5453, Test Loss: 576.6891\n",
      "Epoch 5/50 - Train Loss: 585.1776, Test Loss: 617.2463\n",
      "Epoch 6/50 - Train Loss: 586.3466, Test Loss: 616.9638\n",
      "Epoch 7/50 - Train Loss: 586.1505, Test Loss: 618.3257\n",
      "Epoch 8/50 - Train Loss: 585.4103, Test Loss: 616.5834\n",
      "Epoch 9/50 - Train Loss: 583.9380, Test Loss: 576.2822\n",
      "Epoch 10/50 - Train Loss: 540.5633, Test Loss: 578.6763\n",
      "Epoch 11/50 - Train Loss: 507.3119, Test Loss: 514.7278\n",
      "Epoch 12/50 - Train Loss: 481.2433, Test Loss: 478.3207\n",
      "Epoch 13/50 - Train Loss: 464.3097, Test Loss: 472.5044\n",
      "Epoch 14/50 - Train Loss: 444.4343, Test Loss: 435.4570\n",
      "Epoch 15/50 - Train Loss: 433.9258, Test Loss: 444.6836\n",
      "Epoch 16/50 - Train Loss: 409.0888, Test Loss: 395.4681\n",
      "Epoch 17/50 - Train Loss: 411.4604, Test Loss: 371.8771\n",
      "Epoch 18/50 - Train Loss: 368.7528, Test Loss: 366.7306\n",
      "Epoch 19/50 - Train Loss: 360.8730, Test Loss: 410.3886\n",
      "Epoch 20/50 - Train Loss: 400.3628, Test Loss: 342.9665\n",
      "Epoch 21/50 - Train Loss: 359.1518, Test Loss: 331.0698\n",
      "Epoch 22/50 - Train Loss: 326.7174, Test Loss: 268.8484\n",
      "Epoch 23/50 - Train Loss: 308.7088, Test Loss: 259.7527\n",
      "Epoch 24/50 - Train Loss: 295.4316, Test Loss: 283.1674\n",
      "Epoch 25/50 - Train Loss: 265.5787, Test Loss: 302.9578\n",
      "Epoch 26/50 - Train Loss: 279.5797, Test Loss: 206.9613\n",
      "Epoch 27/50 - Train Loss: 247.5339, Test Loss: 253.6532\n",
      "Epoch 28/50 - Train Loss: 242.2683, Test Loss: 255.1411\n",
      "Epoch 29/50 - Train Loss: 246.2828, Test Loss: 183.7794\n",
      "Epoch 30/50 - Train Loss: 202.9316, Test Loss: 174.7037\n",
      "Epoch 31/50 - Train Loss: 186.2193, Test Loss: 153.4755\n",
      "Epoch 32/50 - Train Loss: 172.5157, Test Loss: 153.3956\n",
      "Epoch 33/50 - Train Loss: 165.0522, Test Loss: 160.3638\n",
      "Epoch 34/50 - Train Loss: 188.6450, Test Loss: 173.4083\n",
      "Epoch 35/50 - Train Loss: 165.5874, Test Loss: 150.9350\n",
      "Epoch 36/50 - Train Loss: 161.1389, Test Loss: 178.7133\n",
      "Epoch 37/50 - Train Loss: 154.1526, Test Loss: 120.9975\n",
      "Epoch 38/50 - Train Loss: 156.5426, Test Loss: 210.7823\n",
      "Epoch 39/50 - Train Loss: 151.9249, Test Loss: 158.6346\n",
      "Epoch 40/50 - Train Loss: 154.5835, Test Loss: 113.4514\n",
      "Epoch 41/50 - Train Loss: 145.5263, Test Loss: 153.5269\n",
      "Epoch 42/50 - Train Loss: 133.1257, Test Loss: 115.8013\n",
      "Epoch 43/50 - Train Loss: 145.9677, Test Loss: 128.0440\n",
      "Epoch 44/50 - Train Loss: 159.7163, Test Loss: 191.0456\n",
      "Epoch 45/50 - Train Loss: 139.7488, Test Loss: 142.9268\n",
      "Epoch 46/50 - Train Loss: 139.6853, Test Loss: 98.4974\n",
      "Epoch 47/50 - Train Loss: 133.8896, Test Loss: 102.3912\n",
      "Epoch 48/50 - Train Loss: 134.5261, Test Loss: 99.2991\n",
      "Epoch 49/50 - Train Loss: 126.0644, Test Loss: 114.4521\n",
      "Epoch 50/50 - Train Loss: 127.9546, Test Loss: 86.0580\n"
     ]
    }
   ],
   "source": [
    "# transformer_training.ipynb\n",
    "\n",
    "def train_model(model, train_loader, test_loader, epochs=50, lr=1e-3):\n",
    "    criterion = nn.MSELoss()\n",
    "    optimizer = optim.Adam(model.parameters(), lr=lr)\n",
    "    \n",
    "    train_losses = []\n",
    "    test_losses = []\n",
    "    \n",
    "    for epoch in range(1, epochs + 1):\n",
    "        model.train()\n",
    "        running_loss = 0.0\n",
    "        for points, volumes in train_loader:\n",
    "            points = points.to(device)\n",
    "            volumes = volumes.to(device)\n",
    "            \n",
    "            optimizer.zero_grad()\n",
    "            outputs = model(points)\n",
    "            loss = criterion(outputs, volumes)\n",
    "            loss.backward()\n",
    "            optimizer.step()\n",
    "            \n",
    "            running_loss += loss.item() * points.size(0)\n",
    "        \n",
    "        epoch_loss = running_loss / len(train_loader.dataset)\n",
    "        train_losses.append(epoch_loss)\n",
    "        \n",
    "        # Evaluation\n",
    "        model.eval()\n",
    "        test_loss = 0.0\n",
    "        with torch.no_grad():\n",
    "            for points, volumes in test_loader:\n",
    "                points = points.to(device)\n",
    "                volumes = volumes.to(device)\n",
    "                outputs = model(points)\n",
    "                loss = criterion(outputs, volumes)\n",
    "                test_loss += loss.item() * points.size(0)\n",
    "        test_loss /= len(test_loader.dataset)\n",
    "        test_losses.append(test_loss)\n",
    "        \n",
    "        print(f\"Epoch {epoch}/{epochs} - Train Loss: {epoch_loss:.4f}, Test Loss: {test_loss:.4f}\")\n",
    "    \n",
    "    return train_losses, test_losses\n",
    "\n",
    "# Initialize model\n",
    "transformer_model = TransformerRegressor().to(device)\n",
    "\n",
    "# Train the model\n",
    "transformer_train_losses, transformer_test_losses = train_model(transformer_model, train_loader, test_loader, epochs=50, lr=1e-3)"
   ]
  },
  {
   "cell_type": "markdown",
   "metadata": {},
   "source": [
    "## GATR MODEL"
   ]
  },
  {
   "cell_type": "code",
   "execution_count": 20,
   "metadata": {},
   "outputs": [
    {
     "name": "stdout",
     "output_type": "stream",
     "text": [
      "LaB-GATr (261761 parameters)\n",
      "torch.Size([1000, 3])\n"
     ]
    },
    {
     "name": "stderr",
     "output_type": "stream",
     "text": [
      "/tmp/ipykernel_1031615/1057448476.py:29: GATrDeprecationWarning: The function \"extract_translation\" is deprecated, because it is not equivariant.\n",
      "  return extract_translation(multivectors).squeeze()\n"
     ]
    },
    {
     "ename": "AttributeError",
     "evalue": "'Tensor' object has no attribute 'orientation'",
     "output_type": "error",
     "traceback": [
      "\u001b[0;31m---------------------------------------------------------------------------\u001b[0m",
      "\u001b[0;31mAttributeError\u001b[0m                            Traceback (most recent call last)",
      "Cell \u001b[0;32mIn[20], line 35\u001b[0m\n\u001b[1;32m     32\u001b[0m output \u001b[38;5;241m=\u001b[39m model(dummy_data)\n\u001b[1;32m     33\u001b[0m \u001b[38;5;28mprint\u001b[39m(output\u001b[38;5;241m.\u001b[39mshape)\n\u001b[0;32m---> 35\u001b[0m gatr_train_losses, gatr_test_losses \u001b[38;5;241m=\u001b[39m \u001b[43mtrain_model\u001b[49m\u001b[43m(\u001b[49m\u001b[43mmodel\u001b[49m\u001b[43m,\u001b[49m\u001b[43m \u001b[49m\u001b[43mtrain_loader\u001b[49m\u001b[43m,\u001b[49m\u001b[43m \u001b[49m\u001b[43mtest_loader\u001b[49m\u001b[43m,\u001b[49m\u001b[43m \u001b[49m\u001b[43mepochs\u001b[49m\u001b[38;5;241;43m=\u001b[39;49m\u001b[38;5;241;43m50\u001b[39;49m\u001b[43m,\u001b[49m\u001b[43m \u001b[49m\u001b[43mlr\u001b[49m\u001b[38;5;241;43m=\u001b[39;49m\u001b[38;5;241;43m1e-3\u001b[39;49m\u001b[43m)\u001b[49m\n",
      "Cell \u001b[0;32mIn[6], line 18\u001b[0m, in \u001b[0;36mtrain_model\u001b[0;34m(model, train_loader, test_loader, epochs, lr)\u001b[0m\n\u001b[1;32m     15\u001b[0m volumes \u001b[38;5;241m=\u001b[39m volumes\u001b[38;5;241m.\u001b[39mto(device)\n\u001b[1;32m     17\u001b[0m optimizer\u001b[38;5;241m.\u001b[39mzero_grad()\n\u001b[0;32m---> 18\u001b[0m outputs \u001b[38;5;241m=\u001b[39m \u001b[43mmodel\u001b[49m\u001b[43m(\u001b[49m\u001b[43mpoints\u001b[49m\u001b[43m)\u001b[49m\n\u001b[1;32m     19\u001b[0m loss \u001b[38;5;241m=\u001b[39m criterion(outputs, volumes)\n\u001b[1;32m     20\u001b[0m loss\u001b[38;5;241m.\u001b[39mbackward()\n",
      "File \u001b[0;32m~/anaconda3/envs/anatomygen_gatr/lib/python3.10/site-packages/torch/nn/modules/module.py:1736\u001b[0m, in \u001b[0;36mModule._wrapped_call_impl\u001b[0;34m(self, *args, **kwargs)\u001b[0m\n\u001b[1;32m   1734\u001b[0m     \u001b[38;5;28;01mreturn\u001b[39;00m \u001b[38;5;28mself\u001b[39m\u001b[38;5;241m.\u001b[39m_compiled_call_impl(\u001b[38;5;241m*\u001b[39margs, \u001b[38;5;241m*\u001b[39m\u001b[38;5;241m*\u001b[39mkwargs)  \u001b[38;5;66;03m# type: ignore[misc]\u001b[39;00m\n\u001b[1;32m   1735\u001b[0m \u001b[38;5;28;01melse\u001b[39;00m:\n\u001b[0;32m-> 1736\u001b[0m     \u001b[38;5;28;01mreturn\u001b[39;00m \u001b[38;5;28;43mself\u001b[39;49m\u001b[38;5;241;43m.\u001b[39;49m\u001b[43m_call_impl\u001b[49m\u001b[43m(\u001b[49m\u001b[38;5;241;43m*\u001b[39;49m\u001b[43margs\u001b[49m\u001b[43m,\u001b[49m\u001b[43m \u001b[49m\u001b[38;5;241;43m*\u001b[39;49m\u001b[38;5;241;43m*\u001b[39;49m\u001b[43mkwargs\u001b[49m\u001b[43m)\u001b[49m\n",
      "File \u001b[0;32m~/anaconda3/envs/anatomygen_gatr/lib/python3.10/site-packages/torch/nn/modules/module.py:1747\u001b[0m, in \u001b[0;36mModule._call_impl\u001b[0;34m(self, *args, **kwargs)\u001b[0m\n\u001b[1;32m   1742\u001b[0m \u001b[38;5;66;03m# If we don't have any hooks, we want to skip the rest of the logic in\u001b[39;00m\n\u001b[1;32m   1743\u001b[0m \u001b[38;5;66;03m# this function, and just call forward.\u001b[39;00m\n\u001b[1;32m   1744\u001b[0m \u001b[38;5;28;01mif\u001b[39;00m \u001b[38;5;129;01mnot\u001b[39;00m (\u001b[38;5;28mself\u001b[39m\u001b[38;5;241m.\u001b[39m_backward_hooks \u001b[38;5;129;01mor\u001b[39;00m \u001b[38;5;28mself\u001b[39m\u001b[38;5;241m.\u001b[39m_backward_pre_hooks \u001b[38;5;129;01mor\u001b[39;00m \u001b[38;5;28mself\u001b[39m\u001b[38;5;241m.\u001b[39m_forward_hooks \u001b[38;5;129;01mor\u001b[39;00m \u001b[38;5;28mself\u001b[39m\u001b[38;5;241m.\u001b[39m_forward_pre_hooks\n\u001b[1;32m   1745\u001b[0m         \u001b[38;5;129;01mor\u001b[39;00m _global_backward_pre_hooks \u001b[38;5;129;01mor\u001b[39;00m _global_backward_hooks\n\u001b[1;32m   1746\u001b[0m         \u001b[38;5;129;01mor\u001b[39;00m _global_forward_hooks \u001b[38;5;129;01mor\u001b[39;00m _global_forward_pre_hooks):\n\u001b[0;32m-> 1747\u001b[0m     \u001b[38;5;28;01mreturn\u001b[39;00m \u001b[43mforward_call\u001b[49m\u001b[43m(\u001b[49m\u001b[38;5;241;43m*\u001b[39;49m\u001b[43margs\u001b[49m\u001b[43m,\u001b[49m\u001b[43m \u001b[49m\u001b[38;5;241;43m*\u001b[39;49m\u001b[38;5;241;43m*\u001b[39;49m\u001b[43mkwargs\u001b[49m\u001b[43m)\u001b[49m\n\u001b[1;32m   1749\u001b[0m result \u001b[38;5;241m=\u001b[39m \u001b[38;5;28;01mNone\u001b[39;00m\n\u001b[1;32m   1750\u001b[0m called_always_called_hooks \u001b[38;5;241m=\u001b[39m \u001b[38;5;28mset\u001b[39m()\n",
      "File \u001b[0;32m~/lab-gatr/lab_gatr/models/lab_gatr.py:71\u001b[0m, in \u001b[0;36mLaBGATr.forward\u001b[0;34m(self, data)\u001b[0m\n\u001b[1;32m     70\u001b[0m \u001b[38;5;28;01mdef\u001b[39;00m \u001b[38;5;21mforward\u001b[39m(\u001b[38;5;28mself\u001b[39m, data: Data) \u001b[38;5;241m-\u001b[39m\u001b[38;5;241m>\u001b[39m torch\u001b[38;5;241m.\u001b[39mTensor:\n\u001b[0;32m---> 71\u001b[0m     multivectors, scalars, reference_multivector \u001b[38;5;241m=\u001b[39m \u001b[38;5;28;43mself\u001b[39;49m\u001b[38;5;241;43m.\u001b[39;49m\u001b[43mtokeniser\u001b[49m\u001b[43m(\u001b[49m\u001b[43mdata\u001b[49m\u001b[43m)\u001b[49m\n\u001b[1;32m     73\u001b[0m     multivectors, scalars \u001b[38;5;241m=\u001b[39m \u001b[38;5;28mself\u001b[39m\u001b[38;5;241m.\u001b[39mgatr(\n\u001b[1;32m     74\u001b[0m         multivectors,\n\u001b[1;32m     75\u001b[0m         scalars\u001b[38;5;241m=\u001b[39mscalars,\n\u001b[1;32m     76\u001b[0m         attention_mask\u001b[38;5;241m=\u001b[39mget_attn_mask(data\u001b[38;5;241m.\u001b[39mbatch[data\u001b[38;5;241m.\u001b[39mscale0_sampling_index] \u001b[38;5;28;01mif\u001b[39;00m data\u001b[38;5;241m.\u001b[39mbatch \u001b[38;5;129;01mis\u001b[39;00m \u001b[38;5;129;01mnot\u001b[39;00m \u001b[38;5;28;01mNone\u001b[39;00m \u001b[38;5;28;01melse\u001b[39;00m data\u001b[38;5;241m.\u001b[39mbatch),\n\u001b[1;32m     77\u001b[0m         join_reference\u001b[38;5;241m=\u001b[39mreference_multivector\n\u001b[1;32m     78\u001b[0m     )\n\u001b[1;32m     80\u001b[0m     \u001b[38;5;28;01mreturn\u001b[39;00m \u001b[38;5;28mself\u001b[39m\u001b[38;5;241m.\u001b[39mtokeniser\u001b[38;5;241m.\u001b[39mlift(multivectors, scalars)\n",
      "File \u001b[0;32m~/anaconda3/envs/anatomygen_gatr/lib/python3.10/site-packages/torch/nn/modules/module.py:1736\u001b[0m, in \u001b[0;36mModule._wrapped_call_impl\u001b[0;34m(self, *args, **kwargs)\u001b[0m\n\u001b[1;32m   1734\u001b[0m     \u001b[38;5;28;01mreturn\u001b[39;00m \u001b[38;5;28mself\u001b[39m\u001b[38;5;241m.\u001b[39m_compiled_call_impl(\u001b[38;5;241m*\u001b[39margs, \u001b[38;5;241m*\u001b[39m\u001b[38;5;241m*\u001b[39mkwargs)  \u001b[38;5;66;03m# type: ignore[misc]\u001b[39;00m\n\u001b[1;32m   1735\u001b[0m \u001b[38;5;28;01melse\u001b[39;00m:\n\u001b[0;32m-> 1736\u001b[0m     \u001b[38;5;28;01mreturn\u001b[39;00m \u001b[38;5;28;43mself\u001b[39;49m\u001b[38;5;241;43m.\u001b[39;49m\u001b[43m_call_impl\u001b[49m\u001b[43m(\u001b[49m\u001b[38;5;241;43m*\u001b[39;49m\u001b[43margs\u001b[49m\u001b[43m,\u001b[49m\u001b[43m \u001b[49m\u001b[38;5;241;43m*\u001b[39;49m\u001b[38;5;241;43m*\u001b[39;49m\u001b[43mkwargs\u001b[49m\u001b[43m)\u001b[49m\n",
      "File \u001b[0;32m~/anaconda3/envs/anatomygen_gatr/lib/python3.10/site-packages/torch/nn/modules/module.py:1747\u001b[0m, in \u001b[0;36mModule._call_impl\u001b[0;34m(self, *args, **kwargs)\u001b[0m\n\u001b[1;32m   1742\u001b[0m \u001b[38;5;66;03m# If we don't have any hooks, we want to skip the rest of the logic in\u001b[39;00m\n\u001b[1;32m   1743\u001b[0m \u001b[38;5;66;03m# this function, and just call forward.\u001b[39;00m\n\u001b[1;32m   1744\u001b[0m \u001b[38;5;28;01mif\u001b[39;00m \u001b[38;5;129;01mnot\u001b[39;00m (\u001b[38;5;28mself\u001b[39m\u001b[38;5;241m.\u001b[39m_backward_hooks \u001b[38;5;129;01mor\u001b[39;00m \u001b[38;5;28mself\u001b[39m\u001b[38;5;241m.\u001b[39m_backward_pre_hooks \u001b[38;5;129;01mor\u001b[39;00m \u001b[38;5;28mself\u001b[39m\u001b[38;5;241m.\u001b[39m_forward_hooks \u001b[38;5;129;01mor\u001b[39;00m \u001b[38;5;28mself\u001b[39m\u001b[38;5;241m.\u001b[39m_forward_pre_hooks\n\u001b[1;32m   1745\u001b[0m         \u001b[38;5;129;01mor\u001b[39;00m _global_backward_pre_hooks \u001b[38;5;129;01mor\u001b[39;00m _global_backward_hooks\n\u001b[1;32m   1746\u001b[0m         \u001b[38;5;129;01mor\u001b[39;00m _global_forward_hooks \u001b[38;5;129;01mor\u001b[39;00m _global_forward_pre_hooks):\n\u001b[0;32m-> 1747\u001b[0m     \u001b[38;5;28;01mreturn\u001b[39;00m \u001b[43mforward_call\u001b[49m\u001b[43m(\u001b[49m\u001b[38;5;241;43m*\u001b[39;49m\u001b[43margs\u001b[49m\u001b[43m,\u001b[49m\u001b[43m \u001b[49m\u001b[38;5;241;43m*\u001b[39;49m\u001b[38;5;241;43m*\u001b[39;49m\u001b[43mkwargs\u001b[49m\u001b[43m)\u001b[49m\n\u001b[1;32m   1749\u001b[0m result \u001b[38;5;241m=\u001b[39m \u001b[38;5;28;01mNone\u001b[39;00m\n\u001b[1;32m   1750\u001b[0m called_always_called_hooks \u001b[38;5;241m=\u001b[39m \u001b[38;5;28mset\u001b[39m()\n",
      "File \u001b[0;32m~/lab-gatr/lab_gatr/models/lab_gatr.py:317\u001b[0m, in \u001b[0;36mCrossAttentionTokeniser.forward\u001b[0;34m(self, data)\u001b[0m\n\u001b[1;32m    316\u001b[0m \u001b[38;5;28;01mdef\u001b[39;00m \u001b[38;5;21mforward\u001b[39m(\u001b[38;5;28mself\u001b[39m, data: Data) \u001b[38;5;241m-\u001b[39m\u001b[38;5;241m>\u001b[39m \u001b[38;5;28mtuple\u001b[39m:\n\u001b[0;32m--> 317\u001b[0m     multivectors, scalars \u001b[38;5;241m=\u001b[39m \u001b[38;5;28;43mself\u001b[39;49m\u001b[38;5;241;43m.\u001b[39;49m\u001b[43mgeometric_algebra_interface\u001b[49m\u001b[38;5;241;43m.\u001b[39;49m\u001b[43membed\u001b[49m\u001b[43m(\u001b[49m\u001b[43mdata\u001b[49m\u001b[43m)\u001b[49m\n\u001b[1;32m    319\u001b[0m     \u001b[38;5;28mself\u001b[39m\u001b[38;5;241m.\u001b[39mcache \u001b[38;5;241m=\u001b[39m {\n\u001b[1;32m    320\u001b[0m         \u001b[38;5;124m'\u001b[39m\u001b[38;5;124mmultivectors\u001b[39m\u001b[38;5;124m'\u001b[39m: multivectors,\n\u001b[1;32m    321\u001b[0m         \u001b[38;5;124m'\u001b[39m\u001b[38;5;124mscalars\u001b[39m\u001b[38;5;124m'\u001b[39m: scalars,\n\u001b[0;32m   (...)\u001b[0m\n\u001b[1;32m    324\u001b[0m         \u001b[38;5;124m'\u001b[39m\u001b[38;5;124mpos\u001b[39m\u001b[38;5;124m'\u001b[39m: data\u001b[38;5;241m.\u001b[39mpos[data\u001b[38;5;241m.\u001b[39mscale0_sampling_index]\n\u001b[1;32m    325\u001b[0m     }\n\u001b[1;32m    327\u001b[0m     attn_mask \u001b[38;5;241m=\u001b[39m get_attn_mask(\n\u001b[1;32m    328\u001b[0m         target_batch\u001b[38;5;241m=\u001b[39mdata\u001b[38;5;241m.\u001b[39mbatch[data\u001b[38;5;241m.\u001b[39mscale0_sampling_index] \u001b[38;5;28;01mif\u001b[39;00m data\u001b[38;5;241m.\u001b[39mbatch \u001b[38;5;129;01mis\u001b[39;00m \u001b[38;5;129;01mnot\u001b[39;00m \u001b[38;5;28;01mNone\u001b[39;00m \u001b[38;5;28;01melse\u001b[39;00m data\u001b[38;5;241m.\u001b[39mbatch,\n\u001b[1;32m    329\u001b[0m         source_batch\u001b[38;5;241m=\u001b[39mdata\u001b[38;5;241m.\u001b[39mbatch\n\u001b[1;32m    330\u001b[0m     )\n",
      "File \u001b[0;32m~/anaconda3/envs/anatomygen_gatr/lib/python3.10/site-packages/torch/utils/_contextlib.py:116\u001b[0m, in \u001b[0;36mcontext_decorator.<locals>.decorate_context\u001b[0;34m(*args, **kwargs)\u001b[0m\n\u001b[1;32m    113\u001b[0m \u001b[38;5;129m@functools\u001b[39m\u001b[38;5;241m.\u001b[39mwraps(func)\n\u001b[1;32m    114\u001b[0m \u001b[38;5;28;01mdef\u001b[39;00m \u001b[38;5;21mdecorate_context\u001b[39m(\u001b[38;5;241m*\u001b[39margs, \u001b[38;5;241m*\u001b[39m\u001b[38;5;241m*\u001b[39mkwargs):\n\u001b[1;32m    115\u001b[0m     \u001b[38;5;28;01mwith\u001b[39;00m ctx_factory():\n\u001b[0;32m--> 116\u001b[0m         \u001b[38;5;28;01mreturn\u001b[39;00m \u001b[43mfunc\u001b[49m\u001b[43m(\u001b[49m\u001b[38;5;241;43m*\u001b[39;49m\u001b[43margs\u001b[49m\u001b[43m,\u001b[49m\u001b[43m \u001b[49m\u001b[38;5;241;43m*\u001b[39;49m\u001b[38;5;241;43m*\u001b[39;49m\u001b[43mkwargs\u001b[49m\u001b[43m)\u001b[49m\n",
      "Cell \u001b[0;32mIn[20], line 22\u001b[0m, in \u001b[0;36mGeometricAlgebraInterface.embed\u001b[0;34m(data)\u001b[0m\n\u001b[1;32m     18\u001b[0m \u001b[38;5;129m@staticmethod\u001b[39m\n\u001b[1;32m     19\u001b[0m \u001b[38;5;129m@torch\u001b[39m\u001b[38;5;241m.\u001b[39mno_grad()\n\u001b[1;32m     20\u001b[0m \u001b[38;5;28;01mdef\u001b[39;00m \u001b[38;5;21membed\u001b[39m(data):\n\u001b[0;32m---> 22\u001b[0m     multivectors \u001b[38;5;241m=\u001b[39m embed_oriented_plane(normal\u001b[38;5;241m=\u001b[39m\u001b[43mdata\u001b[49m\u001b[38;5;241;43m.\u001b[39;49m\u001b[43morientation\u001b[49m, position\u001b[38;5;241m=\u001b[39mdata\u001b[38;5;241m.\u001b[39mpos)\u001b[38;5;241m.\u001b[39mview(\u001b[38;5;241m-\u001b[39m\u001b[38;5;241m1\u001b[39m, \u001b[38;5;241m1\u001b[39m, \u001b[38;5;241m16\u001b[39m)\n\u001b[1;32m     23\u001b[0m     scalars \u001b[38;5;241m=\u001b[39m data\u001b[38;5;241m.\u001b[39mscalar_feature\u001b[38;5;241m.\u001b[39mview(\u001b[38;5;241m-\u001b[39m\u001b[38;5;241m1\u001b[39m, \u001b[38;5;241m1\u001b[39m)\n\u001b[1;32m     25\u001b[0m     \u001b[38;5;28;01mreturn\u001b[39;00m multivectors, scalars\n",
      "\u001b[0;31mAttributeError\u001b[0m: 'Tensor' object has no attribute 'orientation'"
     ]
    }
   ],
   "source": [
    "import torch\n",
    "from lab_gatr import PointCloudPoolingScales, LaBGATr\n",
    "import torch_geometric as pyg\n",
    "from gatr.interface import embed_oriented_plane, extract_translation\n",
    "\n",
    "n = 1000\n",
    "\n",
    "pos, orientation = torch.rand((n, 3)), torch.rand((n, 3))\n",
    "scalar_feature = torch.rand(n)\n",
    "\n",
    "transform = PointCloudPoolingScales(rel_sampling_ratios=(0.2,), interp_simplex='triangle')\n",
    "dummy_data = transform(pyg.data.Data(pos=pos, orientation=orientation, scalar_feature=scalar_feature))\n",
    "\n",
    "class GeometricAlgebraInterface:\n",
    "    num_input_channels = num_output_channels = 1\n",
    "    num_input_scalars = num_output_scalars = 1\n",
    "\n",
    "    @staticmethod\n",
    "    @torch.no_grad()\n",
    "    def embed(data):\n",
    "\n",
    "        multivectors = embed_oriented_plane(normal=data.orientation, position=data.pos).view(-1, 1, 16)\n",
    "        scalars = data.scalar_feature.view(-1, 1)\n",
    "\n",
    "        return multivectors, scalars\n",
    "\n",
    "    @staticmethod\n",
    "    def dislodge(multivectors, scalars):\n",
    "        return extract_translation(multivectors).squeeze()\n",
    "    \n",
    "model = LaBGATr(GeometricAlgebraInterface, d_model=8, num_blocks=10, num_attn_heads=4, use_class_token=False)\n",
    "output = model(dummy_data)\n",
    "print(output.shape)\n",
    "\n",
    "gatr_train_losses, gatr_test_losses = train_model(model, train_loader, test_loader, epochs=50, lr=1e-3)\n"
   ]
  }
 ],
 "metadata": {
  "kernelspec": {
   "display_name": "anatomygen_gatr",
   "language": "python",
   "name": "python3"
  },
  "language_info": {
   "codemirror_mode": {
    "name": "ipython",
    "version": 3
   },
   "file_extension": ".py",
   "mimetype": "text/x-python",
   "name": "python",
   "nbconvert_exporter": "python",
   "pygments_lexer": "ipython3",
   "version": "3.10.14"
  }
 },
 "nbformat": 4,
 "nbformat_minor": 2
}
